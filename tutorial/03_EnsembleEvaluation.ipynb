{
 "cells": [
  {
   "cell_type": "markdown",
   "metadata": {},
   "source": [
    "## How to statistically evaluate your data from ensemble runs:"
   ]
  },
  {
   "cell_type": "markdown",
   "metadata": {},
   "source": [
    "First, make sure, we are in the right place."
   ]
  },
  {
   "cell_type": "code",
   "execution_count": 9,
   "metadata": {
    "collapsed": false
   },
   "outputs": [
    {
     "name": "stdout",
     "output_type": "stream",
     "text": [
      "[stdout:2] \n",
      "/home/jakob/Project_PyMofa/pymofa/__init__.py\n",
      "/home/jakob/Project_PyMofa/tutorial\n",
      "[stdout:3] \n",
      "/home/jakob/Project_PyMofa/pymofa/__init__.py\n",
      "/home/jakob/Project_PyMofa/tutorial\n",
      "[stdout:4] \n",
      "/home/jakob/Project_PyMofa/pymofa/__init__.py\n",
      "/home/jakob/Project_PyMofa/tutorial\n",
      "[stdout:5] \n",
      "/home/jakob/Project_PyMofa/pymofa/__init__.py\n",
      "/home/jakob/Project_PyMofa/tutorial\n"
     ]
    }
   ],
   "source": [
    "%%px\n",
    "import os\n",
    "import pymofa\n",
    "from pymofa.experiment_handling import experiment_handling as eh\n",
    "import numpy as np\n",
    "import pandas as pd\n",
    "\n",
    "print(os.path.abspath(pymofa.__file__))\n",
    "\n",
    "def find(name, path):\n",
    "    for root, dirs, files in os.walk(path):\n",
    "        if name in files:\n",
    "            return root\n",
    "path = find('03_EnsembleEvaluation.ipynb', '/home/')\n",
    "print(path)\n",
    "os.chdir(path)"
   ]
  },
  {
   "cell_type": "markdown",
   "metadata": {},
   "source": [
    "Given, that you whent through the second tutorial, there should be some results to work with already."
   ]
  },
  {
   "cell_type": "code",
   "execution_count": 10,
   "metadata": {
    "collapsed": false
   },
   "outputs": [
    {
     "name": "stdout",
     "output_type": "stream",
     "text": [
      "[stdout:2] ['0o09-0o1-0o01-2o0-1000_s4.pkl', '0o11-0o1-0o1-1o0-1000_s0.pkl', '0o11-0o1-0o005-1o0-1000_s4.pkl', '0o11-0o1-0o1-2o0-1000_s4.pkl', '0o11-0o1-0o005-2o0-1000_s3.pkl']\n",
      "[stdout:3] ['0o09-0o1-0o01-2o0-1000_s4.pkl', '0o11-0o1-0o1-1o0-1000_s0.pkl', '0o11-0o1-0o005-1o0-1000_s4.pkl', '0o11-0o1-0o1-2o0-1000_s4.pkl', '0o11-0o1-0o005-2o0-1000_s3.pkl']\n",
      "[stdout:4] ['0o09-0o1-0o01-2o0-1000_s4.pkl', '0o11-0o1-0o1-1o0-1000_s0.pkl', '0o11-0o1-0o005-1o0-1000_s4.pkl', '0o11-0o1-0o1-2o0-1000_s4.pkl', '0o11-0o1-0o005-2o0-1000_s3.pkl']\n",
      "[stdout:5] ['0o09-0o1-0o01-2o0-1000_s4.pkl', '0o11-0o1-0o1-1o0-1000_s0.pkl', '0o11-0o1-0o005-1o0-1000_s4.pkl', '0o11-0o1-0o1-2o0-1000_s4.pkl', '0o11-0o1-0o005-2o0-1000_s3.pkl']\n"
     ]
    }
   ],
   "source": [
    "%%px\n",
    "import os\n",
    "SAVE_PATH_RAW = \"./dummy/pymofatutorial\"\n",
    "print(os.listdir(SAVE_PATH_RAW)[0:5])"
   ]
  },
  {
   "cell_type": "markdown",
   "metadata": {},
   "source": [
    "Now, we want to do some MPI accelerated statistical analysis with this data using the resave routine of the experiment_handle class from pymofa.\n",
    "Therefore, again, we need to start an *ipcontroller* and some *engines* for ipyparallel\n",
    "\n",
    "$ipcluster\n",
    "\n",
    "$mpirun-n [number of engines] ipengine --mpi=mpi4py\n",
    "\n",
    "and connect to them with the IPython kernel"
   ]
  },
  {
   "cell_type": "code",
   "execution_count": 11,
   "metadata": {
    "collapsed": false
   },
   "outputs": [],
   "source": [
    "from ipyparallel import Client\n",
    "c = Client()"
   ]
  },
  {
   "cell_type": "markdown",
   "metadata": {},
   "source": [
    "Then, we need to to setup the experiment handle from the previous experiment again, only that this time, we will pass the experiment handle the optional path to create a folder for results (different from the one for the raw data)"
   ]
  },
  {
   "cell_type": "code",
   "execution_count": 12,
   "metadata": {
    "collapsed": false
   },
   "outputs": [
    {
     "name": "stdout",
     "output_type": "stream",
     "text": [
      "[stdout:2] {0: 'prey_birth_rate', 1: 'coupling', 2: 'predator_death_rate', 3: 'initial_pop', 4: 'time_length'}\n",
      "[stdout:3] {0: 'prey_birth_rate', 1: 'coupling', 2: 'predator_death_rate', 3: 'initial_pop', 4: 'time_length'}\n",
      "[stdout:4] {0: 'prey_birth_rate', 1: 'coupling', 2: 'predator_death_rate', 3: 'initial_pop', 4: 'time_length'}\n",
      "[stdout:5] {0: 'prey_birth_rate', 1: 'coupling', 2: 'predator_death_rate', 3: 'initial_pop', 4: 'time_length'}\n"
     ]
    }
   ],
   "source": [
    "%%px\n",
    "\n",
    "import itertools as it\n",
    "from pymofa.experiment_handling import experiment_handling as eh\n",
    "\n",
    "#Definingh the experiment execution function\n",
    "#it gets paramater you want to investigate, plus `filename` as the last parameter\n",
    "def RUN_FUNC(prey_birth_rate, coupling, predator_death_rate, initial_pop, time_length,\n",
    "             filename):\n",
    "    \"\"\"Dummy RUN_FUNC just to make the INDEX (below) work.\"\"\"\n",
    "    \n",
    "    exit_status = 42\n",
    "    randomvarname = 'bla'\n",
    "\n",
    "    return exit_status \n",
    "\n",
    "# Path where to Store the simulated Data\n",
    "SAVE_PATH_RAW = \"./dummy/pymofatutorial/\"\n",
    "\n",
    "#path to folder for results of statistical evaluation\n",
    "SAVE_PATH_RES = \"./dummy/stateval_results/\"\n",
    "\n",
    "# Parameter combinations to investiage\n",
    "prey_birth_rate = [0.09, 0.1, 0.11]\n",
    "coupling = [0.1]\n",
    "predator_death_rate = [0.005, 0.01, 0.05, 0.1]\n",
    "initial_pop = [1.0, 2.0]\n",
    "time_length = [1000]\n",
    "\n",
    "PARAM_COMBS = list(it.product(prey_birth_rate, coupling, predator_death_rate, initial_pop, time_length))\n",
    "\n",
    "# Sample Size\n",
    "SAMPLE_SIZE = 5\n",
    "\n",
    "# INDEX \n",
    "INDEX = {i: RUN_FUNC.__code__.co_varnames[i] for i in range(RUN_FUNC.__code__.co_argcount-1)}\n",
    "print(INDEX)\n",
    "\n",
    "# initiate handle instance with experiment variables\n",
    "handle = eh(SAMPLE_SIZE, PARAM_COMBS, INDEX, SAVE_PATH_RAW, SAVE_PATH_RES)"
   ]
  },
  {
   "cell_type": "markdown",
   "metadata": {},
   "source": [
    "The resave routine of this experiment handle requires a dictionary of callables and a filename for the results as inputs. The experiment handle keeps track of the simulation results internally in a list of filenames that is required as an input to the callables passed to the resave routine.\n",
    "\n",
    "Note, that the callables are designed to handle Pandas Dataframes. To be more exact, they load the Dataframes for each list of filenames in a list. Then they concatenate all the Dataframes in the list together in one dataframe. Then the groupby routine of the Dataframe class groups all rows according to their index value on the first level (the timestep in our case) and then applies either a 'mean' or a 'standard error of the mean' estimator to these groups."
   ]
  },
  {
   "cell_type": "code",
   "execution_count": 13,
   "metadata": {
    "collapsed": false
   },
   "outputs": [
    {
     "name": "stdout",
     "output_type": "stream",
     "text": [
      "[stdout:4] \n",
      "processing:  stateval_results\n",
      "under operators  ['sem', 'mean']\n",
      "\r",
      "Post-processing 3 ... 2.08%\r",
      "Post-processing 1 ... 4.17%\r",
      "Post-processing 3 ... 6.25%\r",
      "Post-processing 2 ... 8.33%\r",
      "Post-processing 1 ... 10.42%\r",
      "Post-processing 3 ... 12.50%\r",
      "Post-processing 1 ... 14.58%\r",
      "Post-processing 2 ... 16.67%\r",
      "Post-processing 1 ... 18.75%\r",
      "Post-processing 2 ... 20.83%\r",
      "Post-processing 3 ... 22.92%\r",
      "Post-processing 1 ... 25.00%\r",
      "Post-processing 2 ... 27.08%\r",
      "Post-processing 1 ... 29.17%\r",
      "Post-processing 3 ... 31.25%\r",
      "Post-processing 2 ... 33.33%\r",
      "Post-processing 1 ... 35.42%\r",
      "Post-processing 3 ... 37.50%\r",
      "Post-processing 1 ... 39.58%\r",
      "Post-processing 2 ... 41.67%\r",
      "Post-processing 1 ... 43.75%\r",
      "Post-processing 2 ... 45.83%\r",
      "Post-processing 3 ... 47.92%\r",
      "Post-processing 1 ... 50.00%\r",
      "Post-processing 1 ... 52.08%\r",
      "Post-processing 2 ... 54.17%\r",
      "Post-processing 3 ... 56.25%\r",
      "Post-processing 1 ... 58.33%\r",
      "Post-processing 1 ... 60.42%\r",
      "Post-processing 2 ... 62.50%\r",
      "Post-processing 3 ... 64.58%\r",
      "Post-processing 1 ... 66.67%\r",
      "Post-processing 2 ... 68.75%\r",
      "Post-processing 1 ... 70.83%\r",
      "Post-processing 3 ... 72.92%\r",
      "Post-processing 2 ... 75.00%\r",
      "Post-processing 1 ... 77.08%\r",
      "Post-processing 3 ... 79.17%\r",
      "Post-processing 1 ... 81.25%\r",
      "Post-processing 2 ... 83.33%\r",
      "Post-processing 2 ... 85.42%\r",
      "Post-processing 3 ... 87.50%\r",
      "Post-processing 1 ... 89.58%\r",
      "Post-processing 2 ... 91.67%\r",
      "Post-processing 1 ... 93.75%\r",
      "Post-processing 3 ... 95.83%\r",
      "Post-processing 2 ... 97.92%\n",
      "\r",
      "Post-processing 1 ... 100.00%Post-processing done\n"
     ]
    }
   ],
   "source": [
    "%%px\n",
    "filename = \"stateval_results\"\n",
    "\n",
    "\n",
    "def sem(fnames):\n",
    "    \"\"\"calculate the standard error of the mean for the data in the files\n",
    "    that are in the list of fnames\n",
    "    \n",
    "    Parameter:\n",
    "    ----------\n",
    "    fnames: string\n",
    "        list of strings of filenames containing simulation results\n",
    "    Returns:\n",
    "    sem: float\n",
    "        Standard error of the mean of the data in the files specified\n",
    "        by the list of fnames\n",
    "    \"\"\"\n",
    "    import scipy.stats as st\n",
    "    import numpy as np\n",
    "    import pandas as pd\n",
    "    \n",
    "    return pd.concat([np.load(f) for f in fnames]).groupby(level=0).mean()\n",
    "    \n",
    "\n",
    "#callables can be functions, lambda expressions etc...\n",
    "EVA = {\"sem\": sem,\n",
    "        \"mean\": lambda fnames: pd.concat([np.load(f) for f in fnames]).groupby(level=0).mean()}\n",
    "\n",
    "handle.resave(EVA, filename)"
   ]
  },
  {
   "cell_type": "code",
   "execution_count": 29,
   "metadata": {
    "collapsed": false
   },
   "outputs": [
    {
     "data": {
      "image/png": "[encoded data removed]",
      "text/plain": [
       "<matplotlib.figure.Figure at 0x7f8463ea5518>"
      ]
     },
     "metadata": {},
     "output_type": "display_data"
    }
   ],
   "source": [
    "import numpy as np\n",
    "import matplotlib.pyplot as plt\n",
    "SAVE_PATH_RES = \"./dummy/stateval_results/stateval_results\"\n",
    "data = np.load(SAVE_PATH_RES)\n",
    "data.head()\n",
    "slc = data.xs((0.09, 0.1, 0.005, 1.0, 1000))\n",
    "slc.xs(key=(0, 'mean'), axis=1).unstack('observables').plot()\n",
    "plt.show()"
   ]
  },
  {
   "cell_type": "code",
   "execution_count": null,
   "metadata": {
    "collapsed": true
   },
   "outputs": [],
   "source": []
  }
 ],
 "metadata": {
  "kernelspec": {
   "display_name": "Python 3",
   "language": "python",
   "name": "python3"
  },
  "language_info": {
   "codemirror_mode": {
    "name": "ipython",
    "version": 3
   },
   "file_extension": ".py",
   "mimetype": "text/x-python",
   "name": "python",
   "nbconvert_exporter": "python",
   "pygments_lexer": "ipython3",
   "version": "3.6.0"
  }
 },
 "nbformat": 4,
 "nbformat_minor": 0
}
