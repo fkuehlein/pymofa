{
 "cells": [
  {
   "cell_type": "markdown",
   "metadata": {},
   "source": [
    "# pymofa tutorial 1\n",
    "\n",
    "## Introduction\n",
    "\n",
    "This notebook introduces the basic functionalities of pymofa, the python modeling framework to run and evaluate your models systematically\n",
    "\n",
    "The last update happed on:"
   ]
  },
  {
   "cell_type": "code",
   "execution_count": 1,
   "metadata": {},
   "outputs": [
    {
     "name": "stdout",
     "output_type": "stream",
     "text": [
      "2017-10-18\n"
     ]
    }
   ],
   "source": [
    "import datetime\n",
    "print(datetime.datetime.now().date())"
   ]
  },
  {
   "cell_type": "markdown",
   "metadata": {
    "collapsed": true
   },
   "source": [
    "if you work with this notebook interactively, exectue"
   ]
  },
  {
   "cell_type": "code",
   "execution_count": 2,
   "metadata": {
    "collapsed": true
   },
   "outputs": [],
   "source": [
    "# cd .."
   ]
  },
  {
   "cell_type": "markdown",
   "metadata": {
    "collapsed": true
   },
   "source": [
    "to be at the pymofa root.\n",
    "\n",
    "Can be left out if `pymofa` is (locally) installed at your system."
   ]
  },
  {
   "cell_type": "code",
   "execution_count": 3,
   "metadata": {
    "collapsed": true
   },
   "outputs": [],
   "source": [
    "%matplotlib notebook\n",
    "import numpy as np\n",
    "import matplotlib.pyplot as plt\n",
    "import pandas as pd\n"
   ]
  },
  {
   "cell_type": "markdown",
   "metadata": {},
   "source": [
    "## A discrete predetor prey dummy model\n",
    "First we need to create a dummy model. Let's use a discrete version of the famous predator prey model.\n"
   ]
  },
  {
   "cell_type": "code",
   "execution_count": 4,
   "metadata": {
    "collapsed": true
   },
   "outputs": [],
   "source": [
    "def predprey_model(prey_birth_rate, prey_mortality, \n",
    "                   predator_efficiency, predator_death_rate,\n",
    "                   initial_prey, initial_predators,\n",
    "                   time_length):\n",
    "    \"\"\"Discrete predetor prey model.\"\"\"\n",
    "    A = -1 * np.ones(time_length)\n",
    "    B = -1 * np.ones(time_length)\n",
    "    A[0] = initial_prey\n",
    "    B[0] = initial_predators\n",
    "    for t in range(1, time_length):\n",
    "        A[t] = A[t-1] + prey_birth_rate * A[t-1] - prey_mortality * B[t-1]*A[t-1]\n",
    "        B[t] = B[t-1] + predator_efficiency * B[t-1]*A[t-1] - predator_death_rate * B[t-1] +\\\n",
    "            0.02 * (0.5 - np.random.rand())\n",
    "    return A, B"
   ]
  },
  {
   "cell_type": "markdown",
   "metadata": {},
   "source": [
    "**Example usage**:"
   ]
  },
  {
   "cell_type": "code",
   "execution_count": 5,
   "metadata": {
    "collapsed": true
   },
   "outputs": [],
   "source": [
    "preys, predators = predprey_model(0.1, 0.1, 0.1, 0.01, 1.0, 1.0, 1000)"
   ]
  },
  {
   "cell_type": "code",
   "execution_count": 6,
   "metadata": {},
   "outputs": [
    {
     "data": {
      "application/javascript": [
       "/* Put everything inside the global mpl namespace */\n",
       "window.mpl = {};\n",
       "\n",
       "\n",
       "mpl.get_websocket_type = function() {\n",
       "    if (typeof(WebSocket) !== 'undefined') {\n",
       "        return WebSocket;\n",
       "    } else if (typeof(MozWebSocket) !== 'undefined') {\n",
       "        return MozWebSocket;\n",
       "    } else {\n",
       "        alert('Your browser does not have WebSocket support.' +\n",
       "              'Please try Chrome, Safari or Firefox ≥ 6. ' +\n",
       "              'Firefox 4 and 5 are also supported but you ' +\n",
       "              'have to enable WebSockets in about:config.');\n",
       "    };\n",
       "}\n",
       "\n",
       "mpl.figure = function(figure_id, websocket, ondownload, parent_element) {\n",
       "    this.id = figure_id;\n",
       "\n",
       "    this.ws = websocket;\n",
       "\n",
       "    this.supports_binary = (this.ws.binaryType != undefined);\n",
       "\n",
       "    if (!this.supports_binary) {\n",
       "        var warnings = document.getElementById(\"mpl-warnings\");\n",
       "        if (warnings) {\n",
       "            warnings.style.display = 'block';\n",
       "            warnings.textContent = (\n",
       "                \"This browser does not support binary websocket messages. \" +\n",
       "                    \"Performance may be slow.\");\n",
       "        }\n",
       "    }\n",
       "\n",
       "    this.imageObj = new Image();\n",
       "\n",
       "    this.context = undefined;\n",
       "    this.message = undefined;\n",
       "    this.canvas = undefined;\n",
       "    this.rubberband_canvas = undefined;\n",
       "    this.rubberband_context = undefined;\n",
       "    this.format_dropdown = undefined;\n",
       "\n",
       "    this.image_mode = 'full';\n",
       "\n",
       "    this.root = $('<div/>');\n",
       "    this._root_extra_style(this.root)\n",
       "    this.root.attr('style', 'display: inline-block');\n",
       "\n",
       "    $(parent_element).append(this.root);\n",
       "\n",
       "    this._init_header(this);\n",
       "    this._init_canvas(this);\n",
       "    this._init_toolbar(this);\n",
       "\n",
       "    var fig = this;\n",
       "\n",
       "    this.waiting = false;\n",
       "\n",
       "    this.ws.onopen =  function () {\n",
       "            fig.send_message(\"supports_binary\", {value: fig.supports_binary});\n",
       "            fig.send_message(\"send_image_mode\", {});\n",
       "            if (mpl.ratio != 1) {\n",
       "                fig.send_message(\"set_dpi_ratio\", {'dpi_ratio': mpl.ratio});\n",
       "            }\n",
       "            fig.send_message(\"refresh\", {});\n",
       "        }\n",
       "\n",
       "    this.imageObj.onload = function() {\n",
       "            if (fig.image_mode == 'full') {\n",
       "                // Full images could contain transparency (where diff images\n",
       "                // almost always do), so we need to clear the canvas so that\n",
       "                // there is no ghosting.\n",
       "                fig.context.clearRect(0, 0, fig.canvas.width, fig.canvas.height);\n",
       "            }\n",
       "            fig.context.drawImage(fig.imageObj, 0, 0);\n",
       "        };\n",
       "\n",
       "    this.imageObj.onunload = function() {\n",
       "        this.ws.close();\n",
       "    }\n",
       "\n",
       "    this.ws.onmessage = this._make_on_message_function(this);\n",
       "\n",
       "    this.ondownload = ondownload;\n",
       "}\n",
       "\n",
       "mpl.figure.prototype._init_header = function() {\n",
       "    var titlebar = $(\n",
       "        '<div class=\"ui-dialog-titlebar ui-widget-header ui-corner-all ' +\n",
       "        'ui-helper-clearfix\"/>');\n",
       "    var titletext = $(\n",
       "        '<div class=\"ui-dialog-title\" style=\"width: 100%; ' +\n",
       "        'text-align: center; padding: 3px;\"/>');\n",
       "    titlebar.append(titletext)\n",
       "    this.root.append(titlebar);\n",
       "    this.header = titletext[0];\n",
       "}\n",
       "\n",
       "\n",
       "\n",
       "mpl.figure.prototype._canvas_extra_style = function(canvas_div) {\n",
       "\n",
       "}\n",
       "\n",
       "\n",
       "mpl.figure.prototype._root_extra_style = function(canvas_div) {\n",
       "\n",
       "}\n",
       "\n",
       "mpl.figure.prototype._init_canvas = function() {\n",
       "    var fig = this;\n",
       "\n",
       "    var canvas_div = $('<div/>');\n",
       "\n",
       "    canvas_div.attr('style', 'position: relative; clear: both; outline: 0');\n",
       "\n",
       "    function canvas_keyboard_event(event) {\n",
       "        return fig.key_event(event, event['data']);\n",
       "    }\n",
       "\n",
       "    canvas_div.keydown('key_press', canvas_keyboard_event);\n",
       "    canvas_div.keyup('key_release', canvas_keyboard_event);\n",
       "    this.canvas_div = canvas_div\n",
       "    this._canvas_extra_style(canvas_div)\n",
       "    this.root.append(canvas_div);\n",
       "\n",
       "    var canvas = $('<canvas/>');\n",
       "    canvas.addClass('mpl-canvas');\n",
       "    canvas.attr('style', \"left: 0; top: 0; z-index: 0; outline: 0\")\n",
       "\n",
       "    this.canvas = canvas[0];\n",
       "    this.context = canvas[0].getContext(\"2d\");\n",
       "\n",
       "    var backingStore = this.context.backingStorePixelRatio ||\n",
       "\tthis.context.webkitBackingStorePixelRatio ||\n",
       "\tthis.context.mozBackingStorePixelRatio ||\n",
       "\tthis.context.msBackingStorePixelRatio ||\n",
       "\tthis.context.oBackingStorePixelRatio ||\n",
       "\tthis.context.backingStorePixelRatio || 1;\n",
       "\n",
       "    mpl.ratio = (window.devicePixelRatio || 1) / backingStore;\n",
       "\n",
       "    var rubberband = $('<canvas/>');\n",
       "    rubberband.attr('style', \"position: absolute; left: 0; top: 0; z-index: 1;\")\n",
       "\n",
       "    var pass_mouse_events = true;\n",
       "\n",
       "    canvas_div.resizable({\n",
       "        start: function(event, ui) {\n",
       "            pass_mouse_events = false;\n",
       "        },\n",
       "        resize: function(event, ui) {\n",
       "            fig.request_resize(ui.size.width, ui.size.height);\n",
       "        },\n",
       "        stop: function(event, ui) {\n",
       "            pass_mouse_events = true;\n",
       "            fig.request_resize(ui.size.width, ui.size.height);\n",
       "        },\n",
       "    });\n",
       "\n",
       "    function mouse_event_fn(event) {\n",
       "        if (pass_mouse_events)\n",
       "            return fig.mouse_event(event, event['data']);\n",
       "    }\n",
       "\n",
       "    rubberband.mousedown('button_press', mouse_event_fn);\n",
       "    rubberband.mouseup('button_release', mouse_event_fn);\n",
       "    // Throttle sequential mouse events to 1 every 20ms.\n",
       "    rubberband.mousemove('motion_notify', mouse_event_fn);\n",
       "\n",
       "    rubberband.mouseenter('figure_enter', mouse_event_fn);\n",
       "    rubberband.mouseleave('figure_leave', mouse_event_fn);\n",
       "\n",
       "    canvas_div.on(\"wheel\", function (event) {\n",
       "        event = event.originalEvent;\n",
       "        event['data'] = 'scroll'\n",
       "        if (event.deltaY < 0) {\n",
       "            event.step = 1;\n",
       "        } else {\n",
       "            event.step = -1;\n",
       "        }\n",
       "        mouse_event_fn(event);\n",
       "    });\n",
       "\n",
       "    canvas_div.append(canvas);\n",
       "    canvas_div.append(rubberband);\n",
       "\n",
       "    this.rubberband = rubberband;\n",
       "    this.rubberband_canvas = rubberband[0];\n",
       "    this.rubberband_context = rubberband[0].getContext(\"2d\");\n",
       "    this.rubberband_context.strokeStyle = \"#000000\";\n",
       "\n",
       "    this._resize_canvas = function(width, height) {\n",
       "        // Keep the size of the canvas, canvas container, and rubber band\n",
       "        // canvas in synch.\n",
       "        canvas_div.css('width', width)\n",
       "        canvas_div.css('height', height)\n",
       "\n",
       "        canvas.attr('width', width * mpl.ratio);\n",
       "        canvas.attr('height', height * mpl.ratio);\n",
       "        canvas.attr('style', 'width: ' + width + 'px; height: ' + height + 'px;');\n",
       "\n",
       "        rubberband.attr('width', width);\n",
       "        rubberband.attr('height', height);\n",
       "    }\n",
       "\n",
       "    // Set the figure to an initial 600x600px, this will subsequently be updated\n",
       "    // upon first draw.\n",
       "    this._resize_canvas(600, 600);\n",
       "\n",
       "    // Disable right mouse context menu.\n",
       "    $(this.rubberband_canvas).bind(\"contextmenu\",function(e){\n",
       "        return false;\n",
       "    });\n",
       "\n",
       "    function set_focus () {\n",
       "        canvas.focus();\n",
       "        canvas_div.focus();\n",
       "    }\n",
       "\n",
       "    window.setTimeout(set_focus, 100);\n",
       "}\n",
       "\n",
       "mpl.figure.prototype._init_toolbar = function() {\n",
       "    var fig = this;\n",
       "\n",
       "    var nav_element = $('<div/>')\n",
       "    nav_element.attr('style', 'width: 100%');\n",
       "    this.root.append(nav_element);\n",
       "\n",
       "    // Define a callback function for later on.\n",
       "    function toolbar_event(event) {\n",
       "        return fig.toolbar_button_onclick(event['data']);\n",
       "    }\n",
       "    function toolbar_mouse_event(event) {\n",
       "        return fig.toolbar_button_onmouseover(event['data']);\n",
       "    }\n",
       "\n",
       "    for(var toolbar_ind in mpl.toolbar_items) {\n",
       "        var name = mpl.toolbar_items[toolbar_ind][0];\n",
       "        var tooltip = mpl.toolbar_items[toolbar_ind][1];\n",
       "        var image = mpl.toolbar_items[toolbar_ind][2];\n",
       "        var method_name = mpl.toolbar_items[toolbar_ind][3];\n",
       "\n",
       "        if (!name) {\n",
       "            // put a spacer in here.\n",
       "            continue;\n",
       "        }\n",
       "        var button = $('<button/>');\n",
       "        button.addClass('ui-button ui-widget ui-state-default ui-corner-all ' +\n",
       "                        'ui-button-icon-only');\n",
       "        button.attr('role', 'button');\n",
       "        button.attr('aria-disabled', 'false');\n",
       "        button.click(method_name, toolbar_event);\n",
       "        button.mouseover(tooltip, toolbar_mouse_event);\n",
       "\n",
       "        var icon_img = $('<span/>');\n",
       "        icon_img.addClass('ui-button-icon-primary ui-icon');\n",
       "        icon_img.addClass(image);\n",
       "        icon_img.addClass('ui-corner-all');\n",
       "\n",
       "        var tooltip_span = $('<span/>');\n",
       "        tooltip_span.addClass('ui-button-text');\n",
       "        tooltip_span.html(tooltip);\n",
       "\n",
       "        button.append(icon_img);\n",
       "        button.append(tooltip_span);\n",
       "\n",
       "        nav_element.append(button);\n",
       "    }\n",
       "\n",
       "    var fmt_picker_span = $('<span/>');\n",
       "\n",
       "    var fmt_picker = $('<select/>');\n",
       "    fmt_picker.addClass('mpl-toolbar-option ui-widget ui-widget-content');\n",
       "    fmt_picker_span.append(fmt_picker);\n",
       "    nav_element.append(fmt_picker_span);\n",
       "    this.format_dropdown = fmt_picker[0];\n",
       "\n",
       "    for (var ind in mpl.extensions) {\n",
       "        var fmt = mpl.extensions[ind];\n",
       "        var option = $(\n",
       "            '<option/>', {selected: fmt === mpl.default_extension}).html(fmt);\n",
       "        fmt_picker.append(option)\n",
       "    }\n",
       "\n",
       "    // Add hover states to the ui-buttons\n",
       "    $( \".ui-button\" ).hover(\n",
       "        function() { $(this).addClass(\"ui-state-hover\");},\n",
       "        function() { $(this).removeClass(\"ui-state-hover\");}\n",
       "    );\n",
       "\n",
       "    var status_bar = $('<span class=\"mpl-message\"/>');\n",
       "    nav_element.append(status_bar);\n",
       "    this.message = status_bar[0];\n",
       "}\n",
       "\n",
       "mpl.figure.prototype.request_resize = function(x_pixels, y_pixels) {\n",
       "    // Request matplotlib to resize the figure. Matplotlib will then trigger a resize in the client,\n",
       "    // which will in turn request a refresh of the image.\n",
       "    this.send_message('resize', {'width': x_pixels, 'height': y_pixels});\n",
       "}\n",
       "\n",
       "mpl.figure.prototype.send_message = function(type, properties) {\n",
       "    properties['type'] = type;\n",
       "    properties['figure_id'] = this.id;\n",
       "    this.ws.send(JSON.stringify(properties));\n",
       "}\n",
       "\n",
       "mpl.figure.prototype.send_draw_message = function() {\n",
       "    if (!this.waiting) {\n",
       "        this.waiting = true;\n",
       "        this.ws.send(JSON.stringify({type: \"draw\", figure_id: this.id}));\n",
       "    }\n",
       "}\n",
       "\n",
       "\n",
       "mpl.figure.prototype.handle_save = function(fig, msg) {\n",
       "    var format_dropdown = fig.format_dropdown;\n",
       "    var format = format_dropdown.options[format_dropdown.selectedIndex].value;\n",
       "    fig.ondownload(fig, format);\n",
       "}\n",
       "\n",
       "\n",
       "mpl.figure.prototype.handle_resize = function(fig, msg) {\n",
       "    var size = msg['size'];\n",
       "    if (size[0] != fig.canvas.width || size[1] != fig.canvas.height) {\n",
       "        fig._resize_canvas(size[0], size[1]);\n",
       "        fig.send_message(\"refresh\", {});\n",
       "    };\n",
       "}\n",
       "\n",
       "mpl.figure.prototype.handle_rubberband = function(fig, msg) {\n",
       "    var x0 = msg['x0'] / mpl.ratio;\n",
       "    var y0 = (fig.canvas.height - msg['y0']) / mpl.ratio;\n",
       "    var x1 = msg['x1'] / mpl.ratio;\n",
       "    var y1 = (fig.canvas.height - msg['y1']) / mpl.ratio;\n",
       "    x0 = Math.floor(x0) + 0.5;\n",
       "    y0 = Math.floor(y0) + 0.5;\n",
       "    x1 = Math.floor(x1) + 0.5;\n",
       "    y1 = Math.floor(y1) + 0.5;\n",
       "    var min_x = Math.min(x0, x1);\n",
       "    var min_y = Math.min(y0, y1);\n",
       "    var width = Math.abs(x1 - x0);\n",
       "    var height = Math.abs(y1 - y0);\n",
       "\n",
       "    fig.rubberband_context.clearRect(\n",
       "        0, 0, fig.canvas.width, fig.canvas.height);\n",
       "\n",
       "    fig.rubberband_context.strokeRect(min_x, min_y, width, height);\n",
       "}\n",
       "\n",
       "mpl.figure.prototype.handle_figure_label = function(fig, msg) {\n",
       "    // Updates the figure title.\n",
       "    fig.header.textContent = msg['label'];\n",
       "}\n",
       "\n",
       "mpl.figure.prototype.handle_cursor = function(fig, msg) {\n",
       "    var cursor = msg['cursor'];\n",
       "    switch(cursor)\n",
       "    {\n",
       "    case 0:\n",
       "        cursor = 'pointer';\n",
       "        break;\n",
       "    case 1:\n",
       "        cursor = 'default';\n",
       "        break;\n",
       "    case 2:\n",
       "        cursor = 'crosshair';\n",
       "        break;\n",
       "    case 3:\n",
       "        cursor = 'move';\n",
       "        break;\n",
       "    }\n",
       "    fig.rubberband_canvas.style.cursor = cursor;\n",
       "}\n",
       "\n",
       "mpl.figure.prototype.handle_message = function(fig, msg) {\n",
       "    fig.message.textContent = msg['message'];\n",
       "}\n",
       "\n",
       "mpl.figure.prototype.handle_draw = function(fig, msg) {\n",
       "    // Request the server to send over a new figure.\n",
       "    fig.send_draw_message();\n",
       "}\n",
       "\n",
       "mpl.figure.prototype.handle_image_mode = function(fig, msg) {\n",
       "    fig.image_mode = msg['mode'];\n",
       "}\n",
       "\n",
       "mpl.figure.prototype.updated_canvas_event = function() {\n",
       "    // Called whenever the canvas gets updated.\n",
       "    this.send_message(\"ack\", {});\n",
       "}\n",
       "\n",
       "// A function to construct a web socket function for onmessage handling.\n",
       "// Called in the figure constructor.\n",
       "mpl.figure.prototype._make_on_message_function = function(fig) {\n",
       "    return function socket_on_message(evt) {\n",
       "        if (evt.data instanceof Blob) {\n",
       "            /* FIXME: We get \"Resource interpreted as Image but\n",
       "             * transferred with MIME type text/plain:\" errors on\n",
       "             * Chrome.  But how to set the MIME type?  It doesn't seem\n",
       "             * to be part of the websocket stream */\n",
       "            evt.data.type = \"image/png\";\n",
       "\n",
       "            /* Free the memory for the previous frames */\n",
       "            if (fig.imageObj.src) {\n",
       "                (window.URL || window.webkitURL).revokeObjectURL(\n",
       "                    fig.imageObj.src);\n",
       "            }\n",
       "\n",
       "            fig.imageObj.src = (window.URL || window.webkitURL).createObjectURL(\n",
       "                evt.data);\n",
       "            fig.updated_canvas_event();\n",
       "            fig.waiting = false;\n",
       "            return;\n",
       "        }\n",
       "        else if (typeof evt.data === 'string' && evt.data.slice(0, 21) == \"data:image/png;base64\") {\n",
       "            fig.imageObj.src = evt.data;\n",
       "            fig.updated_canvas_event();\n",
       "            fig.waiting = false;\n",
       "            return;\n",
       "        }\n",
       "\n",
       "        var msg = JSON.parse(evt.data);\n",
       "        var msg_type = msg['type'];\n",
       "\n",
       "        // Call the  \"handle_{type}\" callback, which takes\n",
       "        // the figure and JSON message as its only arguments.\n",
       "        try {\n",
       "            var callback = fig[\"handle_\" + msg_type];\n",
       "        } catch (e) {\n",
       "            console.log(\"No handler for the '\" + msg_type + \"' message type: \", msg);\n",
       "            return;\n",
       "        }\n",
       "\n",
       "        if (callback) {\n",
       "            try {\n",
       "                // console.log(\"Handling '\" + msg_type + \"' message: \", msg);\n",
       "                callback(fig, msg);\n",
       "            } catch (e) {\n",
       "                console.log(\"Exception inside the 'handler_\" + msg_type + \"' callback:\", e, e.stack, msg);\n",
       "            }\n",
       "        }\n",
       "    };\n",
       "}\n",
       "\n",
       "// from http://stackoverflow.com/questions/1114465/getting-mouse-location-in-canvas\n",
       "mpl.findpos = function(e) {\n",
       "    //this section is from http://www.quirksmode.org/js/events_properties.html\n",
       "    var targ;\n",
       "    if (!e)\n",
       "        e = window.event;\n",
       "    if (e.target)\n",
       "        targ = e.target;\n",
       "    else if (e.srcElement)\n",
       "        targ = e.srcElement;\n",
       "    if (targ.nodeType == 3) // defeat Safari bug\n",
       "        targ = targ.parentNode;\n",
       "\n",
       "    // jQuery normalizes the pageX and pageY\n",
       "    // pageX,Y are the mouse positions relative to the document\n",
       "    // offset() returns the position of the element relative to the document\n",
       "    var x = e.pageX - $(targ).offset().left;\n",
       "    var y = e.pageY - $(targ).offset().top;\n",
       "\n",
       "    return {\"x\": x, \"y\": y};\n",
       "};\n",
       "\n",
       "/*\n",
       " * return a copy of an object with only non-object keys\n",
       " * we need this to avoid circular references\n",
       " * http://stackoverflow.com/a/24161582/3208463\n",
       " */\n",
       "function simpleKeys (original) {\n",
       "  return Object.keys(original).reduce(function (obj, key) {\n",
       "    if (typeof original[key] !== 'object')\n",
       "        obj[key] = original[key]\n",
       "    return obj;\n",
       "  }, {});\n",
       "}\n",
       "\n",
       "mpl.figure.prototype.mouse_event = function(event, name) {\n",
       "    var canvas_pos = mpl.findpos(event)\n",
       "\n",
       "    if (name === 'button_press')\n",
       "    {\n",
       "        this.canvas.focus();\n",
       "        this.canvas_div.focus();\n",
       "    }\n",
       "\n",
       "    var x = canvas_pos.x * mpl.ratio;\n",
       "    var y = canvas_pos.y * mpl.ratio;\n",
       "\n",
       "    this.send_message(name, {x: x, y: y, button: event.button,\n",
       "                             step: event.step,\n",
       "                             guiEvent: simpleKeys(event)});\n",
       "\n",
       "    /* This prevents the web browser from automatically changing to\n",
       "     * the text insertion cursor when the button is pressed.  We want\n",
       "     * to control all of the cursor setting manually through the\n",
       "     * 'cursor' event from matplotlib */\n",
       "    event.preventDefault();\n",
       "    return false;\n",
       "}\n",
       "\n",
       "mpl.figure.prototype._key_event_extra = function(event, name) {\n",
       "    // Handle any extra behaviour associated with a key event\n",
       "}\n",
       "\n",
       "mpl.figure.prototype.key_event = function(event, name) {\n",
       "\n",
       "    // Prevent repeat events\n",
       "    if (name == 'key_press')\n",
       "    {\n",
       "        if (event.which === this._key)\n",
       "            return;\n",
       "        else\n",
       "            this._key = event.which;\n",
       "    }\n",
       "    if (name == 'key_release')\n",
       "        this._key = null;\n",
       "\n",
       "    var value = '';\n",
       "    if (event.ctrlKey && event.which != 17)\n",
       "        value += \"ctrl+\";\n",
       "    if (event.altKey && event.which != 18)\n",
       "        value += \"alt+\";\n",
       "    if (event.shiftKey && event.which != 16)\n",
       "        value += \"shift+\";\n",
       "\n",
       "    value += 'k';\n",
       "    value += event.which.toString();\n",
       "\n",
       "    this._key_event_extra(event, name);\n",
       "\n",
       "    this.send_message(name, {key: value,\n",
       "                             guiEvent: simpleKeys(event)});\n",
       "    return false;\n",
       "}\n",
       "\n",
       "mpl.figure.prototype.toolbar_button_onclick = function(name) {\n",
       "    if (name == 'download') {\n",
       "        this.handle_save(this, null);\n",
       "    } else {\n",
       "        this.send_message(\"toolbar_button\", {name: name});\n",
       "    }\n",
       "};\n",
       "\n",
       "mpl.figure.prototype.toolbar_button_onmouseover = function(tooltip) {\n",
       "    this.message.textContent = tooltip;\n",
       "};\n",
       "mpl.toolbar_items = [[\"Home\", \"Reset original view\", \"fa fa-home icon-home\", \"home\"], [\"Back\", \"Back to  previous view\", \"fa fa-arrow-left icon-arrow-left\", \"back\"], [\"Forward\", \"Forward to next view\", \"fa fa-arrow-right icon-arrow-right\", \"forward\"], [\"\", \"\", \"\", \"\"], [\"Pan\", \"Pan axes with left mouse, zoom with right\", \"fa fa-arrows icon-move\", \"pan\"], [\"Zoom\", \"Zoom to rectangle\", \"fa fa-square-o icon-check-empty\", \"zoom\"], [\"\", \"\", \"\", \"\"], [\"Download\", \"Download plot\", \"fa fa-floppy-o icon-save\", \"download\"]];\n",
       "\n",
       "mpl.extensions = [\"eps\", \"jpeg\", \"pdf\", \"png\", \"ps\", \"raw\", \"svg\", \"tif\"];\n",
       "\n",
       "mpl.default_extension = \"png\";var comm_websocket_adapter = function(comm) {\n",
       "    // Create a \"websocket\"-like object which calls the given IPython comm\n",
       "    // object with the appropriate methods. Currently this is a non binary\n",
       "    // socket, so there is still some room for performance tuning.\n",
       "    var ws = {};\n",
       "\n",
       "    ws.close = function() {\n",
       "        comm.close()\n",
       "    };\n",
       "    ws.send = function(m) {\n",
       "        //console.log('sending', m);\n",
       "        comm.send(m);\n",
       "    };\n",
       "    // Register the callback with on_msg.\n",
       "    comm.on_msg(function(msg) {\n",
       "        //console.log('receiving', msg['content']['data'], msg);\n",
       "        // Pass the mpl event to the overriden (by mpl) onmessage function.\n",
       "        ws.onmessage(msg['content']['data'])\n",
       "    });\n",
       "    return ws;\n",
       "}\n",
       "\n",
       "mpl.mpl_figure_comm = function(comm, msg) {\n",
       "    // This is the function which gets called when the mpl process\n",
       "    // starts-up an IPython Comm through the \"matplotlib\" channel.\n",
       "\n",
       "    var id = msg.content.data.id;\n",
       "    // Get hold of the div created by the display call when the Comm\n",
       "    // socket was opened in Python.\n",
       "    var element = $(\"#\" + id);\n",
       "    var ws_proxy = comm_websocket_adapter(comm)\n",
       "\n",
       "    function ondownload(figure, format) {\n",
       "        window.open(figure.imageObj.src);\n",
       "    }\n",
       "\n",
       "    var fig = new mpl.figure(id, ws_proxy,\n",
       "                           ondownload,\n",
       "                           element.get(0));\n",
       "\n",
       "    // Call onopen now - mpl needs it, as it is assuming we've passed it a real\n",
       "    // web socket which is closed, not our websocket->open comm proxy.\n",
       "    ws_proxy.onopen();\n",
       "\n",
       "    fig.parent_element = element.get(0);\n",
       "    fig.cell_info = mpl.find_output_cell(\"<div id='\" + id + \"'></div>\");\n",
       "    if (!fig.cell_info) {\n",
       "        console.error(\"Failed to find cell for figure\", id, fig);\n",
       "        return;\n",
       "    }\n",
       "\n",
       "    var output_index = fig.cell_info[2]\n",
       "    var cell = fig.cell_info[0];\n",
       "\n",
       "};\n",
       "\n",
       "mpl.figure.prototype.handle_close = function(fig, msg) {\n",
       "    var width = fig.canvas.width/mpl.ratio\n",
       "    fig.root.unbind('remove')\n",
       "\n",
       "    // Update the output cell to use the data from the current canvas.\n",
       "    fig.push_to_output();\n",
       "    var dataURL = fig.canvas.toDataURL();\n",
       "    // Re-enable the keyboard manager in IPython - without this line, in FF,\n",
       "    // the notebook keyboard shortcuts fail.\n",
       "    IPython.keyboard_manager.enable()\n",
       "    $(fig.parent_element).html('<img src=\"' + dataURL + '\" width=\"' + width + '\">');\n",
       "    fig.close_ws(fig, msg);\n",
       "}\n",
       "\n",
       "mpl.figure.prototype.close_ws = function(fig, msg){\n",
       "    fig.send_message('closing', msg);\n",
       "    // fig.ws.close()\n",
       "}\n",
       "\n",
       "mpl.figure.prototype.push_to_output = function(remove_interactive) {\n",
       "    // Turn the data on the canvas into data in the output cell.\n",
       "    var width = this.canvas.width/mpl.ratio\n",
       "    var dataURL = this.canvas.toDataURL();\n",
       "    this.cell_info[1]['text/html'] = '<img src=\"' + dataURL + '\" width=\"' + width + '\">';\n",
       "}\n",
       "\n",
       "mpl.figure.prototype.updated_canvas_event = function() {\n",
       "    // Tell IPython that the notebook contents must change.\n",
       "    IPython.notebook.set_dirty(true);\n",
       "    this.send_message(\"ack\", {});\n",
       "    var fig = this;\n",
       "    // Wait a second, then push the new image to the DOM so\n",
       "    // that it is saved nicely (might be nice to debounce this).\n",
       "    setTimeout(function () { fig.push_to_output() }, 1000);\n",
       "}\n",
       "\n",
       "mpl.figure.prototype._init_toolbar = function() {\n",
       "    var fig = this;\n",
       "\n",
       "    var nav_element = $('<div/>')\n",
       "    nav_element.attr('style', 'width: 100%');\n",
       "    this.root.append(nav_element);\n",
       "\n",
       "    // Define a callback function for later on.\n",
       "    function toolbar_event(event) {\n",
       "        return fig.toolbar_button_onclick(event['data']);\n",
       "    }\n",
       "    function toolbar_mouse_event(event) {\n",
       "        return fig.toolbar_button_onmouseover(event['data']);\n",
       "    }\n",
       "\n",
       "    for(var toolbar_ind in mpl.toolbar_items){\n",
       "        var name = mpl.toolbar_items[toolbar_ind][0];\n",
       "        var tooltip = mpl.toolbar_items[toolbar_ind][1];\n",
       "        var image = mpl.toolbar_items[toolbar_ind][2];\n",
       "        var method_name = mpl.toolbar_items[toolbar_ind][3];\n",
       "\n",
       "        if (!name) { continue; };\n",
       "\n",
       "        var button = $('<button class=\"btn btn-default\" href=\"#\" title=\"' + name + '\"><i class=\"fa ' + image + ' fa-lg\"></i></button>');\n",
       "        button.click(method_name, toolbar_event);\n",
       "        button.mouseover(tooltip, toolbar_mouse_event);\n",
       "        nav_element.append(button);\n",
       "    }\n",
       "\n",
       "    // Add the status bar.\n",
       "    var status_bar = $('<span class=\"mpl-message\" style=\"text-align:right; float: right;\"/>');\n",
       "    nav_element.append(status_bar);\n",
       "    this.message = status_bar[0];\n",
       "\n",
       "    // Add the close button to the window.\n",
       "    var buttongrp = $('<div class=\"btn-group inline pull-right\"></div>');\n",
       "    var button = $('<button class=\"btn btn-mini btn-primary\" href=\"#\" title=\"Stop Interaction\"><i class=\"fa fa-power-off icon-remove icon-large\"></i></button>');\n",
       "    button.click(function (evt) { fig.handle_close(fig, {}); } );\n",
       "    button.mouseover('Stop Interaction', toolbar_mouse_event);\n",
       "    buttongrp.append(button);\n",
       "    var titlebar = this.root.find($('.ui-dialog-titlebar'));\n",
       "    titlebar.prepend(buttongrp);\n",
       "}\n",
       "\n",
       "mpl.figure.prototype._root_extra_style = function(el){\n",
       "    var fig = this\n",
       "    el.on(\"remove\", function(){\n",
       "\tfig.close_ws(fig, {});\n",
       "    });\n",
       "}\n",
       "\n",
       "mpl.figure.prototype._canvas_extra_style = function(el){\n",
       "    // this is important to make the div 'focusable\n",
       "    el.attr('tabindex', 0)\n",
       "    // reach out to IPython and tell the keyboard manager to turn it's self\n",
       "    // off when our div gets focus\n",
       "\n",
       "    // location in version 3\n",
       "    if (IPython.notebook.keyboard_manager) {\n",
       "        IPython.notebook.keyboard_manager.register_events(el);\n",
       "    }\n",
       "    else {\n",
       "        // location in version 2\n",
       "        IPython.keyboard_manager.register_events(el);\n",
       "    }\n",
       "\n",
       "}\n",
       "\n",
       "mpl.figure.prototype._key_event_extra = function(event, name) {\n",
       "    var manager = IPython.notebook.keyboard_manager;\n",
       "    if (!manager)\n",
       "        manager = IPython.keyboard_manager;\n",
       "\n",
       "    // Check for shift+enter\n",
       "    if (event.shiftKey && event.which == 13) {\n",
       "        this.canvas_div.blur();\n",
       "        // select the cell after this one\n",
       "        var index = IPython.notebook.find_cell_index(this.cell_info[0]);\n",
       "        IPython.notebook.select(index + 1);\n",
       "    }\n",
       "}\n",
       "\n",
       "mpl.figure.prototype.handle_save = function(fig, msg) {\n",
       "    fig.ondownload(fig, null);\n",
       "}\n",
       "\n",
       "\n",
       "mpl.find_output_cell = function(html_output) {\n",
       "    // Return the cell and output element which can be found *uniquely* in the notebook.\n",
       "    // Note - this is a bit hacky, but it is done because the \"notebook_saving.Notebook\"\n",
       "    // IPython event is triggered only after the cells have been serialised, which for\n",
       "    // our purposes (turning an active figure into a static one), is too late.\n",
       "    var cells = IPython.notebook.get_cells();\n",
       "    var ncells = cells.length;\n",
       "    for (var i=0; i<ncells; i++) {\n",
       "        var cell = cells[i];\n",
       "        if (cell.cell_type === 'code'){\n",
       "            for (var j=0; j<cell.output_area.outputs.length; j++) {\n",
       "                var data = cell.output_area.outputs[j];\n",
       "                if (data.data) {\n",
       "                    // IPython >= 3 moved mimebundle to data attribute of output\n",
       "                    data = data.data;\n",
       "                }\n",
       "                if (data['text/html'] == html_output) {\n",
       "                    return [cell, data, j];\n",
       "                }\n",
       "            }\n",
       "        }\n",
       "    }\n",
       "}\n",
       "\n",
       "// Register the function which deals with the matplotlib target/channel.\n",
       "// The kernel may be null if the page has been refreshed.\n",
       "if (IPython.notebook.kernel != null) {\n",
       "    IPython.notebook.kernel.comm_manager.register_target('matplotlib', mpl.mpl_figure_comm);\n",
       "}\n"
      ],
      "text/plain": [
       "<IPython.core.display.Javascript object>"
      ]
     },
     "metadata": {},
     "output_type": "display_data"
    },
    {
     "data": {
      "text/html": [
       "<img src=\"data:image/png;base64,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\" width=\"639.999990463257\">"
      ],
      "text/plain": [
       "<IPython.core.display.HTML object>"
      ]
     },
     "metadata": {},
     "output_type": "display_data"
    },
    {
     "data": {
      "text/plain": [
       "<matplotlib.legend.Legend at 0x7f358fb545c0>"
      ]
     },
     "execution_count": 6,
     "metadata": {},
     "output_type": "execute_result"
    }
   ],
   "source": [
    "plt.plot(preys, label=\"preys\") \n",
    "plt.plot(predators, label=\"predators\")\n",
    "plt.legend()"
   ]
  },
  {
   "cell_type": "markdown",
   "metadata": {
    "collapsed": true
   },
   "source": [
    "## Applying pymofa"
   ]
  },
  {
   "cell_type": "code",
   "execution_count": 7,
   "metadata": {},
   "outputs": [
    {
     "name": "stdout",
     "output_type": "stream",
     "text": [
      "/home/wbarfuss/Documents/Work/Software/pymofa\n"
     ]
    }
   ],
   "source": [
    "cd .."
   ]
  },
  {
   "cell_type": "code",
   "execution_count": 8,
   "metadata": {
    "collapsed": true
   },
   "outputs": [],
   "source": [
    "# imports\n",
    "from pymofa.experiment_handling import experiment_handling as eh\n",
    "import itertools as it\n",
    "# import cPickle"
   ]
  },
  {
   "cell_type": "code",
   "execution_count": 9,
   "metadata": {
    "collapsed": true
   },
   "outputs": [],
   "source": [
    "# Path where to Store the simulated Data\n",
    "SAVE_PATH_RAW = \"./tutorial/dummy/pmX01data\""
   ]
  },
  {
   "cell_type": "code",
   "execution_count": 10,
   "metadata": {
    "collapsed": true
   },
   "outputs": [],
   "source": [
    "# Definingh the experiment execution function\n",
    "#      it gets paramater you want to investigate, plus `filename` as the last parameter\n",
    "def RUN_FUNC(prey_birth_rate, coupling, predator_death_rate, initial_pop, time_length,\n",
    "             store):  # <-- ich könnte hier die store function übergeben\n",
    "    \"\"\"Insightful docstring.\"\"\"\n",
    "    # poss. process\n",
    "    prey_mortality = coupling\n",
    "    predator_efficiency = coupling\n",
    "    initial_prey = initial_pop\n",
    "    initial_predators = initial_pop\n",
    "    # one could also do more complicated stuff here, e.g. drawing something from a random distribution\n",
    "    \n",
    "    # running the model\n",
    "    preys, predators = predprey_model(prey_birth_rate, prey_mortality, predator_efficiency,\n",
    "                                      predator_death_rate, initial_prey, initial_predators,\n",
    "                                      time_length)\n",
    "    \n",
    "    # preparing the data\n",
    "    res = pd.DataFrame({\"preys\": np.array(preys),\n",
    "                        \"predators\": np.array(predators)})\n",
    "    res.index.name = \"tstep\"\n",
    "    \n",
    "    # return res\n",
    "    store(res)\n",
    "    \n",
    "    #return res\n",
    "    # Save Result\n",
    "    #res.to_pickle(filename)\n",
    "    \n",
    "    # determine exit status (if something went wrong)\n",
    "    # if exit status > 0 == run passed\n",
    "    # if exit status < 0 == Run Failed\n",
    "    exit_status = 42\n",
    "    \n",
    "    # RUN_FUNC needs to return exit_status \n",
    "    return exit_status"
   ]
  },
  {
   "cell_type": "markdown",
   "metadata": {},
   "source": [
    "Note: runfunc result dataframe columns need to be in the same order\n",
    "Better to give them alphabetically"
   ]
  },
  {
   "cell_type": "code",
   "execution_count": 11,
   "metadata": {
    "collapsed": true
   },
   "outputs": [],
   "source": [
    "runfunc_output = pd.DataFrame(columns=[\"predators\", \"preys\"])\n",
    "runfunc_output.index.name = \"tstep\""
   ]
  },
  {
   "cell_type": "code",
   "execution_count": 12,
   "metadata": {
    "collapsed": true
   },
   "outputs": [],
   "source": [
    "# Parameter combinations to investiage\n",
    "prey_birth_rate = [0.09, 0.1, 0.11]\n",
    "coupling = [0.1]\n",
    "predator_death_rate = [0.005, 0.01, 0.05, 0.1]\n",
    "initial_pop = [1.0, 2.0]\n",
    "time_length = [1000]\n",
    "\n",
    "PARAM_COMBS = list(it.product(prey_birth_rate, coupling, predator_death_rate, initial_pop, time_length))"
   ]
  },
  {
   "cell_type": "code",
   "execution_count": 18,
   "metadata": {
    "collapsed": true
   },
   "outputs": [],
   "source": [
    "# Sample Size\n",
    "SAMPLE_SIZE = 3"
   ]
  },
  {
   "cell_type": "code",
   "execution_count": 19,
   "metadata": {
    "collapsed": true
   },
   "outputs": [],
   "source": [
    "# INDEX \n",
    "INDEX = {i: RUN_FUNC.__code__.co_varnames[i] for i in range(RUN_FUNC.__code__.co_argcount-1)}"
   ]
  },
  {
   "cell_type": "code",
   "execution_count": 20,
   "metadata": {},
   "outputs": [
    {
     "name": "stdout",
     "output_type": "stream",
     "text": [
      "initializing pymofa experiment handle\n",
      "detected 1 nodes in MPI environment\n",
      "0 of 72 single computations left\n"
     ]
    }
   ],
   "source": [
    "# initiate handle instance with experiment variables\n",
    "handle = eh(SAMPLE_SIZE, PARAM_COMBS, INDEX, RUN_FUNC, runfunc_output, SAVE_PATH_RAW)"
   ]
  },
  {
   "cell_type": "code",
   "execution_count": 21,
   "metadata": {},
   "outputs": [
    {
     "name": "stdout",
     "output_type": "stream",
     "text": [
      "0 of 72 single computations left\n",
      "Only one node available. No parallel execution.\n",
      "Saving rawdata at /home/wbarfuss/Documents/Work/Software/pymofa/tutorial/dummy/pmX01data.h5\n",
      "Splitting calculations to 0 nodes.\n",
      "Calculating 0 ...done.\n"
     ]
    }
   ],
   "source": [
    "# Compute experiemnts raw data\n",
    "handle.compute()"
   ]
  },
  {
   "cell_type": "code",
   "execution_count": 16,
   "metadata": {},
   "outputs": [
    {
     "data": {
      "text/plain": [
       "'/home/wbarfuss/Documents/Work/Software/pymofa/tutorial/dummy/pmX01data.h5'"
      ]
     },
     "execution_count": 16,
     "metadata": {},
     "output_type": "execute_result"
    }
   ],
   "source": [
    "handle.path_raw"
   ]
  },
  {
   "cell_type": "markdown",
   "metadata": {},
   "source": [
    "### getting index"
   ]
  },
  {
   "cell_type": "code",
   "execution_count": 18,
   "metadata": {},
   "outputs": [],
   "source": [
    "store = pd.HDFStore(handle.path_raw)"
   ]
  },
  {
   "cell_type": "code",
   "execution_count": 55,
   "metadata": {},
   "outputs": [],
   "source": [
    "store.select_as_coordinates?"
   ]
  },
  {
   "cell_type": "code",
   "execution_count": null,
   "metadata": {
    "collapsed": true
   },
   "outputs": [],
   "source": []
  },
  {
   "cell_type": "code",
   "execution_count": 63,
   "metadata": {},
   "outputs": [
    {
     "ename": "KeyError",
     "evalue": "'No object named dat in the file'",
     "output_type": "error",
     "traceback": [
      "\u001b[0;31m---------------------------------------------------------------------------\u001b[0m",
      "\u001b[0;31mKeyError\u001b[0m                                  Traceback (most recent call last)",
      "\u001b[0;32m<ipython-input-63-62b263f2928e>\u001b[0m in \u001b[0;36m<module>\u001b[0;34m()\u001b[0m\n\u001b[1;32m      1\u001b[0m \u001b[0;32mwith\u001b[0m \u001b[0mpd\u001b[0m\u001b[0;34m.\u001b[0m\u001b[0mHDFStore\u001b[0m\u001b[0;34m(\u001b[0m\u001b[0mhandle\u001b[0m\u001b[0;34m.\u001b[0m\u001b[0mpath_raw\u001b[0m \u001b[0;34m+\u001b[0m \u001b[0;34m\"df\"\u001b[0m\u001b[0;34m)\u001b[0m \u001b[0;32mas\u001b[0m \u001b[0mstore\u001b[0m\u001b[0;34m:\u001b[0m\u001b[0;34m\u001b[0m\u001b[0m\n\u001b[0;32m----> 2\u001b[0;31m     \u001b[0md\u001b[0m \u001b[0;34m=\u001b[0m \u001b[0mstore\u001b[0m\u001b[0;34m.\u001b[0m\u001b[0mselect\u001b[0m\u001b[0;34m(\u001b[0m\u001b[0;34m\"dat\"\u001b[0m\u001b[0;34m,\u001b[0m \u001b[0;34m\"prey_birth_rate = 3\"\u001b[0m\u001b[0;34m)\u001b[0m\u001b[0;34m\u001b[0m\u001b[0m\n\u001b[0m\u001b[1;32m      3\u001b[0m \u001b[0;34m\u001b[0m\u001b[0m\n\u001b[1;32m      4\u001b[0m \u001b[0md\u001b[0m\u001b[0;34m.\u001b[0m\u001b[0mvalues\u001b[0m\u001b[0;34m\u001b[0m\u001b[0m\n",
      "\u001b[0;32m/home/wbarfuss/Applications/anaconda3/lib/python3.6/site-packages/pandas/io/pytables.py\u001b[0m in \u001b[0;36mselect\u001b[0;34m(self, key, where, start, stop, columns, iterator, chunksize, auto_close, **kwargs)\u001b[0m\n\u001b[1;32m    702\u001b[0m         \u001b[0mgroup\u001b[0m \u001b[0;34m=\u001b[0m \u001b[0mself\u001b[0m\u001b[0;34m.\u001b[0m\u001b[0mget_node\u001b[0m\u001b[0;34m(\u001b[0m\u001b[0mkey\u001b[0m\u001b[0;34m)\u001b[0m\u001b[0;34m\u001b[0m\u001b[0m\n\u001b[1;32m    703\u001b[0m         \u001b[0;32mif\u001b[0m \u001b[0mgroup\u001b[0m \u001b[0;32mis\u001b[0m \u001b[0;32mNone\u001b[0m\u001b[0;34m:\u001b[0m\u001b[0;34m\u001b[0m\u001b[0m\n\u001b[0;32m--> 704\u001b[0;31m             \u001b[0;32mraise\u001b[0m \u001b[0mKeyError\u001b[0m\u001b[0;34m(\u001b[0m\u001b[0;34m'No object named %s in the file'\u001b[0m \u001b[0;34m%\u001b[0m \u001b[0mkey\u001b[0m\u001b[0;34m)\u001b[0m\u001b[0;34m\u001b[0m\u001b[0m\n\u001b[0m\u001b[1;32m    705\u001b[0m \u001b[0;34m\u001b[0m\u001b[0m\n\u001b[1;32m    706\u001b[0m         \u001b[0;31m# create the storer and axes\u001b[0m\u001b[0;34m\u001b[0m\u001b[0;34m\u001b[0m\u001b[0m\n",
      "\u001b[0;31mKeyError\u001b[0m: 'No object named dat in the file'"
     ]
    }
   ],
   "source": [
    "with pd.HDFStore(handle.path_raw + \"df\") as store:\n",
    "    d = store.select(\"dat\", \"prey_birth_rate = 3\")\n",
    "\n",
    "d.values"
   ]
  },
  {
   "cell_type": "code",
   "execution_count": 65,
   "metadata": {},
   "outputs": [
    {
     "data": {
      "text/plain": [
       "[((0.09, 0.1, 0.005, 1.0, 1000), 0),\n",
       " ((0.09, 0.1, 0.005, 2.0, 1000), 0),\n",
       " ((0.09, 0.1, 0.01, 1.0, 1000), 0),\n",
       " ((0.09, 0.1, 0.01, 2.0, 1000), 0),\n",
       " ((0.09, 0.1, 0.05, 1.0, 1000), 0),\n",
       " ((0.09, 0.1, 0.05, 2.0, 1000), 0),\n",
       " ((0.09, 0.1, 0.1, 1.0, 1000), 0),\n",
       " ((0.09, 0.1, 0.1, 2.0, 1000), 0),\n",
       " ((0.1, 0.1, 0.005, 1.0, 1000), 0),\n",
       " ((0.1, 0.1, 0.005, 2.0, 1000), 0),\n",
       " ((0.1, 0.1, 0.01, 1.0, 1000), 0),\n",
       " ((0.1, 0.1, 0.01, 2.0, 1000), 0),\n",
       " ((0.1, 0.1, 0.05, 1.0, 1000), 0),\n",
       " ((0.1, 0.1, 0.05, 2.0, 1000), 0),\n",
       " ((0.1, 0.1, 0.1, 1.0, 1000), 0),\n",
       " ((0.1, 0.1, 0.1, 2.0, 1000), 0),\n",
       " ((0.11, 0.1, 0.005, 1.0, 1000), 0),\n",
       " ((0.11, 0.1, 0.005, 2.0, 1000), 0),\n",
       " ((0.11, 0.1, 0.01, 1.0, 1000), 0),\n",
       " ((0.11, 0.1, 0.01, 2.0, 1000), 0),\n",
       " ((0.11, 0.1, 0.05, 1.0, 1000), 0),\n",
       " ((0.11, 0.1, 0.05, 2.0, 1000), 0),\n",
       " ((0.11, 0.1, 0.1, 1.0, 1000), 0),\n",
       " ((0.11, 0.1, 0.1, 2.0, 1000), 0),\n",
       " ((0.09, 0.1, 0.005, 1.0, 1000), 1),\n",
       " ((0.09, 0.1, 0.005, 2.0, 1000), 1),\n",
       " ((0.09, 0.1, 0.01, 1.0, 1000), 1),\n",
       " ((0.09, 0.1, 0.01, 2.0, 1000), 1),\n",
       " ((0.09, 0.1, 0.05, 1.0, 1000), 1),\n",
       " ((0.09, 0.1, 0.05, 2.0, 1000), 1),\n",
       " ((0.09, 0.1, 0.1, 1.0, 1000), 1),\n",
       " ((0.09, 0.1, 0.1, 2.0, 1000), 1),\n",
       " ((0.1, 0.1, 0.005, 1.0, 1000), 1),\n",
       " ((0.1, 0.1, 0.005, 2.0, 1000), 1),\n",
       " ((0.1, 0.1, 0.01, 1.0, 1000), 1),\n",
       " ((0.1, 0.1, 0.01, 2.0, 1000), 1),\n",
       " ((0.1, 0.1, 0.05, 1.0, 1000), 1),\n",
       " ((0.1, 0.1, 0.05, 2.0, 1000), 1),\n",
       " ((0.1, 0.1, 0.1, 1.0, 1000), 1),\n",
       " ((0.1, 0.1, 0.1, 2.0, 1000), 1),\n",
       " ((0.11, 0.1, 0.005, 1.0, 1000), 1),\n",
       " ((0.11, 0.1, 0.005, 2.0, 1000), 1),\n",
       " ((0.11, 0.1, 0.01, 1.0, 1000), 1),\n",
       " ((0.11, 0.1, 0.01, 2.0, 1000), 1),\n",
       " ((0.11, 0.1, 0.05, 1.0, 1000), 1),\n",
       " ((0.11, 0.1, 0.05, 2.0, 1000), 1),\n",
       " ((0.11, 0.1, 0.1, 1.0, 1000), 1),\n",
       " ((0.11, 0.1, 0.1, 2.0, 1000), 1)]"
      ]
     },
     "execution_count": 65,
     "metadata": {},
     "output_type": "execute_result"
    }
   ],
   "source": [
    "[(pc, s) for s in range(SAMPLE_SIZE) for pc in PARAM_COMBS]"
   ]
  },
  {
   "cell_type": "code",
   "execution_count": 133,
   "metadata": {},
   "outputs": [
    {
     "data": {
      "text/plain": [
       "0"
      ]
     },
     "execution_count": 133,
     "metadata": {},
     "output_type": "execute_result"
    }
   ],
   "source": [
    "\n",
    "with pd.HDFStore(handle.path_raw) as store:\n",
    "    dat = store.select(\"dat\", \"sample=3 & initial_pop=2.0 & tstep>10 & tstep < 13 & prey_birth_rate =0.11\")\n",
    "\n",
    "len(dat.values)\n"
   ]
  },
  {
   "cell_type": "code",
   "execution_count": 50,
   "metadata": {},
   "outputs": [],
   "source": [
    "rm -r ./tutorial/dummy/"
   ]
  },
  {
   "cell_type": "code",
   "execution_count": 45,
   "metadata": {},
   "outputs": [],
   "source": [
    "dfq = pd.DataFrame(np.random.randn(10,4),columns=[\"predators\", \"preys\", \"C\", \"D\"], \n",
    "                   index=pd.date_range('20130101',periods=10))\n",
    "\n",
    "with pd.HDFStore(\"tmp.h5\") as store:\n",
    "    store.append('dfq',dfq,format='table', data_columns=True)\n",
    "    "
   ]
  },
  {
   "cell_type": "code",
   "execution_count": 48,
   "metadata": {},
   "outputs": [
    {
     "data": {
      "text/html": [
       "<div>\n",
       "<style>\n",
       "    .dataframe thead tr:only-child th {\n",
       "        text-align: right;\n",
       "    }\n",
       "\n",
       "    .dataframe thead th {\n",
       "        text-align: left;\n",
       "    }\n",
       "\n",
       "    .dataframe tbody tr th {\n",
       "        vertical-align: top;\n",
       "    }\n",
       "</style>\n",
       "<table border=\"1\" class=\"dataframe\">\n",
       "  <thead>\n",
       "    <tr style=\"text-align: right;\">\n",
       "      <th></th>\n",
       "      <th>predators</th>\n",
       "      <th>preys</th>\n",
       "      <th>C</th>\n",
       "      <th>D</th>\n",
       "    </tr>\n",
       "  </thead>\n",
       "  <tbody>\n",
       "    <tr>\n",
       "      <th>2013-01-05</th>\n",
       "      <td>0.288171</td>\n",
       "      <td>1.192002</td>\n",
       "      <td>1.280047</td>\n",
       "      <td>0.298282</td>\n",
       "    </tr>\n",
       "    <tr>\n",
       "      <th>2013-01-06</th>\n",
       "      <td>-0.402369</td>\n",
       "      <td>0.230675</td>\n",
       "      <td>1.061137</td>\n",
       "      <td>-0.852500</td>\n",
       "    </tr>\n",
       "    <tr>\n",
       "      <th>2013-01-10</th>\n",
       "      <td>1.560009</td>\n",
       "      <td>0.818562</td>\n",
       "      <td>0.942054</td>\n",
       "      <td>1.052205</td>\n",
       "    </tr>\n",
       "  </tbody>\n",
       "</table>\n",
       "</div>"
      ],
      "text/plain": [
       "            predators     preys         C         D\n",
       "2013-01-05   0.288171  1.192002  1.280047  0.298282\n",
       "2013-01-06  -0.402369  0.230675  1.061137 -0.852500\n",
       "2013-01-10   1.560009  0.818562  0.942054  1.052205"
      ]
     },
     "execution_count": 48,
     "metadata": {},
     "output_type": "execute_result"
    }
   ],
   "source": [
    "with pd.HDFStore(\"tmp.h5\") as store:\n",
    "    d = store.select('dfq',where=\"preys>0 and C>0\")\n",
    "d"
   ]
  },
  {
   "cell_type": "code",
   "execution_count": 88,
   "metadata": {},
   "outputs": [
    {
     "data": {
      "text/plain": [
       "{0: 'prey_birth_rate',\n",
       " 1: 'coupling',\n",
       " 2: 'predator_death_rate',\n",
       " 3: 'initial_pop',\n",
       " 4: 'time_length'}"
      ]
     },
     "execution_count": 88,
     "metadata": {},
     "output_type": "execute_result"
    }
   ],
   "source": [
    "INDEX\n"
   ]
  },
  {
   "cell_type": "code",
   "execution_count": 89,
   "metadata": {},
   "outputs": [],
   "source": [
    "index_values = []\n",
    "for p in INDEX.values():\n",
    "    index_values.append(store.select_column(\"dat\", p))\n",
    "index_values.append(store.select_column(\"dat\", \"sample\"))"
   ]
  },
  {
   "cell_type": "code",
   "execution_count": 92,
   "metadata": {},
   "outputs": [],
   "source": [
    "taskdf = pd.DataFrame(index_values).T.drop_duplicates()"
   ]
  },
  {
   "cell_type": "code",
   "execution_count": 110,
   "metadata": {},
   "outputs": [
    {
     "data": {
      "text/plain": [
       "True"
      ]
     },
     "execution_count": 110,
     "metadata": {},
     "output_type": "execute_result"
    }
   ],
   "source": [
    "pcs = PARAM_COMBS[0] + (1,)\n",
    "\n",
    "(pcs == taskdf.values).all(axis=1).any()"
   ]
  },
  {
   "cell_type": "code",
   "execution_count": null,
   "metadata": {
    "collapsed": true
   },
   "outputs": [],
   "source": []
  },
  {
   "cell_type": "code",
   "execution_count": 118,
   "metadata": {},
   "outputs": [
    {
     "name": "stdout",
     "output_type": "stream",
     "text": [
      "(0.09, 'prey_birth_rate')\n",
      "(0.1, 'coupling')\n",
      "(0.005, 'predator_death_rate')\n",
      "(1.0, 'initial_pop')\n",
      "(1000, 'time_length')\n"
     ]
    }
   ],
   "source": [
    "for z in zip(PARAM_COMBS[0], list(INDEX.values())):\n",
    "    print(z)"
   ]
  },
  {
   "cell_type": "code",
   "execution_count": 116,
   "metadata": {},
   "outputs": [
    {
     "data": {
      "text/plain": [
       "dict_values(['prey_birth_rate', 'coupling', 'predator_death_rate', 'initial_pop', 'time_length'])"
      ]
     },
     "execution_count": 116,
     "metadata": {},
     "output_type": "execute_result"
    }
   ],
   "source": [
    "INDEX.values()"
   ]
  },
  {
   "cell_type": "code",
   "execution_count": null,
   "metadata": {
    "collapsed": true
   },
   "outputs": [],
   "source": []
  }
 ],
 "metadata": {
  "kernelspec": {
   "display_name": "Python 3",
   "language": "python",
   "name": "python3"
  },
  "language_info": {
   "codemirror_mode": {
    "name": "ipython",
    "version": 3
   },
   "file_extension": ".py",
   "mimetype": "text/x-python",
   "name": "python",
   "nbconvert_exporter": "python",
   "pygments_lexer": "ipython3",
   "version": "3.6.1"
  }
 },
 "nbformat": 4,
 "nbformat_minor": 1
}
